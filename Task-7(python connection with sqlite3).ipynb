{
 "cells": [
  {
   "cell_type": "markdown",
   "id": "ac65cd71",
   "metadata": {},
   "source": [
    "# TASK-7: Get Basic Sales Summary from a Tiny SQLite Database using Python"
   ]
  },
  {
   "cell_type": "markdown",
   "id": "9e20a9da",
   "metadata": {},
   "source": [
    "## Importing neccessary Libraries"
   ]
  },
  {
   "cell_type": "code",
   "execution_count": 7,
   "id": "1287e4ae",
   "metadata": {},
   "outputs": [],
   "source": [
    "import sqlite3\n",
    "import pandas as pd\n",
    "import matplotlib.pyplot as plt"
   ]
  },
  {
   "cell_type": "code",
   "execution_count": null,
   "id": "a28d7f58",
   "metadata": {},
   "outputs": [],
   "source": []
  },
  {
   "cell_type": "markdown",
   "id": "7b058049",
   "metadata": {},
   "source": [
    "## Creating a SQLite Database and Inserting Sample Data."
   ]
  },
  {
   "cell_type": "code",
   "execution_count": 4,
   "id": "a8c60588",
   "metadata": {},
   "outputs": [],
   "source": [
    "def create_database():\n",
    "    conn = sqlite3.connect(\"sales_data.db\")\n",
    "    cursor = conn.cursor()\n",
    "    cursor.execute(\"\"\"\n",
    "    CREATE TABLE IF NOT EXISTS sales (\n",
    "    id INTEGER PRIMARY KEY AUTOINCREMENT,\n",
    "    product TEXT,\n",
    "    quantity INTEGER,\n",
    "    price REAL\n",
    "    )\n",
    "    \"\"\")\n",
    "    sample_data = [(\"Apple\", 10, 1.2),\n",
    "                   (\"Banana\", 20, 0.5),\n",
    "                   (\"Orange\", 15, 0.8),\n",
    "                   (\"Apple\", 5, 1.2),\n",
    "                   (\"Banana\", 10, 0.5),\n",
    "                  ]\n",
    "    cursor.executemany(\"INSERT INTO sales (product, quantity, price) VALUES (?, ?, ?)\", sample_data)\n",
    "    \n",
    "    conn.commit()\n",
    "    conn.close()"
   ]
  },
  {
   "cell_type": "markdown",
   "id": "46655a98",
   "metadata": {},
   "source": [
    "## Query the Database"
   ]
  },
  {
   "cell_type": "code",
   "execution_count": 5,
   "id": "2fe1804e",
   "metadata": {},
   "outputs": [],
   "source": [
    "def query_sales_data():\n",
    "    conn = sqlite3.connect(\"sales_data.db\")\n",
    "\n",
    "    query = \"\"\"\n",
    "    SELECT \n",
    "        product, \n",
    "        SUM(quantity) AS total_qty, \n",
    "        SUM(quantity * price) AS revenue \n",
    "    FROM sales \n",
    "    GROUP BY product\n",
    "    \"\"\"\n",
    "\n",
    "    df = pd.read_sql_query(query, conn)\n",
    "    conn.close()\n",
    "    return df"
   ]
  },
  {
   "cell_type": "markdown",
   "id": "f7719c10",
   "metadata": {},
   "source": [
    "## Display and Plot"
   ]
  },
  {
   "cell_type": "code",
   "execution_count": 6,
   "id": "f96d4c89",
   "metadata": {},
   "outputs": [
    {
     "name": "stdout",
     "output_type": "stream",
     "text": [
      "Sales Summary:\n",
      "  product  total_qty  revenue\n",
      "0   Apple         15     18.0\n",
      "1  Banana         30     15.0\n",
      "2  Orange         15     12.0\n"
     ]
    },
    {
     "data": {
      "image/png": "[encoded data removed]",
      "text/plain": [
       "<Figure size 640x480 with 1 Axes>"
      ]
     },
     "metadata": {},
     "output_type": "display_data"
    },
    {
     "data": {
      "text/plain": [
       "<Figure size 640x480 with 0 Axes>"
      ]
     },
     "metadata": {},
     "output_type": "display_data"
    }
   ],
   "source": [
    "def display_results(df):\n",
    "    print(\"Sales Summary:\")\n",
    "    print(df)\n",
    "\n",
    "    # Plot bar chart\n",
    "    df.plot(kind='bar', x='product', y='revenue', legend=False)\n",
    "    plt.title(\"Revenue by Product\")\n",
    "    plt.ylabel(\"Revenue ($)\")\n",
    "    plt.xlabel(\"Product\")\n",
    "    plt.tight_layout()\n",
    "    plt.show()\n",
    "    # To Save chart\n",
    "    plt.savefig(\"sales_chart.png\")\n",
    "\n",
    "if __name__ == \"__main__\":\n",
    "    create_database()\n",
    "    df = query_sales_data()\n",
    "    display_results(df)"
   ]
  },
  {
   "cell_type": "code",
   "execution_count": null,
   "id": "8625e315",
   "metadata": {},
   "outputs": [],
   "source": []
  }
 ],
 "metadata": {
  "kernelspec": {
   "display_name": "Python 3 (ipykernel)",
   "language": "python",
   "name": "python3"
  },
  "language_info": {
   "codemirror_mode": {
    "name": "ipython",
    "version": 3
   },
   "file_extension": ".py",
   "mimetype": "text/x-python",
   "name": "python",
   "nbconvert_exporter": "python",
   "pygments_lexer": "ipython3",
   "version": "3.11.7"
  }
 },
 "nbformat": 4,
 "nbformat_minor": 5
}
